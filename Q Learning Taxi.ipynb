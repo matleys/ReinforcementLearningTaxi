{
 "cells": [
  {
   "cell_type": "code",
   "execution_count": 1,
   "id": "overhead-iraqi",
   "metadata": {},
   "outputs": [],
   "source": [
    "import gym\n",
    "import time\n",
    "import random\n",
    "import numpy as np\n",
    "import matplotlib.pyplot as plt\n",
    "from IPython.display import clear_output"
   ]
  },
  {
   "cell_type": "code",
   "execution_count": 2,
   "id": "above-climate",
   "metadata": {},
   "outputs": [],
   "source": [
    "env = gym.make(\"Taxi-v3\").env"
   ]
  },
  {
   "cell_type": "code",
   "execution_count": 3,
   "id": "brilliant-serum",
   "metadata": {},
   "outputs": [
    {
     "name": "stdout",
     "output_type": "stream",
     "text": [
      "+---------+\n",
      "|R: | : :\u001b[35mG\u001b[0m|\n",
      "| : | : : |\n",
      "| : :\u001b[43m \u001b[0m: : |\n",
      "| | : | : |\n",
      "|\u001b[34;1mY\u001b[0m| : |B: |\n",
      "+---------+\n",
      "\n"
     ]
    }
   ],
   "source": [
    "env.reset() # reset env to a random state\n",
    "env.render() # blue letter is passenger pick up location & purple letter is destination"
   ]
  },
  {
   "cell_type": "code",
   "execution_count": 4,
   "id": "mental-invalid",
   "metadata": {},
   "outputs": [
    {
     "name": "stdout",
     "output_type": "stream",
     "text": [
      "Action space of size 6\n",
      "State space of size 500\n"
     ]
    }
   ],
   "source": [
    "# 0: going down; 1: going up; 2: going right; 3: going left; 4: picking up; 5: dropping off\n",
    "# => Action space of 6\n",
    "\n",
    "print('Action space of size', env.action_space.n)\n",
    "\n",
    "# state is vector: (row of taxi, col of taxi, passenger index, destination index)\n",
    "# passenger is either in R,G,Y, B or in taxi => passenger index of 0,1,2,3,4 respectively\n",
    "# destination is also either R,G,Y or B\n",
    "# So: 5 rows, 5 cols, 5 passenger indexes and 4 destination indexes\n",
    "# => State space of 5x5x5x4 (= 500): state vector will be encoded as value between 0 and 499\n",
    "\n",
    "print('State space of size', env.observation_space.n) "
   ]
  },
  {
   "cell_type": "code",
   "execution_count": 5,
   "id": "wanted-persian",
   "metadata": {},
   "outputs": [
    {
     "name": "stdout",
     "output_type": "stream",
     "text": [
      "State: 328\n",
      "+---------+\n",
      "|\u001b[35mR\u001b[0m: | : :G|\n",
      "| : | : : |\n",
      "| : : : : |\n",
      "| |\u001b[43m \u001b[0m: | : |\n",
      "|\u001b[34;1mY\u001b[0m| : |B: |\n",
      "+---------+\n",
      "\n"
     ]
    }
   ],
   "source": [
    "# Example state\n",
    "state = env.encode(3, 1, 2, 0) # (taxi row 3, taxi column 2, passenger index 2 (Y), destination index 0 (R))\n",
    "print(\"State:\", state)\n",
    "\n",
    "env.s = state # vector encode\n",
    "env.render()"
   ]
  },
  {
   "cell_type": "code",
   "execution_count": 6,
   "id": "professional-korea",
   "metadata": {},
   "outputs": [
    {
     "data": {
      "text/plain": [
       "{0: [(1.0, 428, -1, False)],\n",
       " 1: [(1.0, 228, -1, False)],\n",
       " 2: [(1.0, 348, -1, False)],\n",
       " 3: [(1.0, 328, -1, False)],\n",
       " 4: [(1.0, 328, -10, False)],\n",
       " 5: [(1.0, 328, -10, False)]}"
      ]
     },
     "execution_count": 6,
     "metadata": {},
     "output_type": "execute_result"
    }
   ],
   "source": [
    "# reward structure: passenger pick-up/drop-off => +20; illegal pick-up/drop-off => -10; other: -1 \n",
    "# reward table for state represented as {action: [(probability, nextstate, reward, done)]}\n",
    "\n",
    "env.P[state]"
   ]
  },
  {
   "cell_type": "markdown",
   "id": "massive-aside",
   "metadata": {},
   "source": [
    "## Q learning"
   ]
  },
  {
   "cell_type": "code",
   "execution_count": 7,
   "id": "rising-satin",
   "metadata": {},
   "outputs": [],
   "source": [
    "# init Q table as 500x6 table of zeroes\n",
    "\n",
    "# Goal: learn 'real' value of certain action in certain state\n",
    "# => learn Q value of (action, state) combinations\n",
    "\n",
    "q_table = np.zeros([env.observation_space.n, env.action_space.n])"
   ]
  },
  {
   "cell_type": "code",
   "execution_count": 8,
   "id": "unauthorized-carry",
   "metadata": {},
   "outputs": [],
   "source": [
    "# init hyperparameters\n",
    "\n",
    "alpha = 0.05 # learning rate <-> by how much do we want to update Q values each iteration\n",
    "gamma = 0.6 # discount factor (future rewards vs. immediate rewards)\n",
    "epsilon = 0.1 # determines epsilon greediness (exploration vs exploitation): 10% probability of taking random action & 90% of taking current best action"
   ]
  },
  {
   "cell_type": "code",
   "execution_count": 10,
   "id": "convinced-symposium",
   "metadata": {
    "scrolled": true
   },
   "outputs": [
    {
     "name": "stdout",
     "output_type": "stream",
     "text": [
      "training finished: 60.46092128753662 seconds\n"
     ]
    }
   ],
   "source": [
    "# model training\n",
    "t1 = time.time()\n",
    "rewards, epochs, penalties = [], [], []\n",
    "\n",
    "for episode in range(1, 50001): # train Q table for 50k episodes\n",
    "    state = env.reset()\n",
    "    done = False\n",
    "    rew, ep, pen = 0, 0, 0\n",
    "    \n",
    "    while not done:\n",
    "        if random.uniform(0, 1) < epsilon: # epsilon probability\n",
    "            action = env.action_space.sample() # Exploration: take random action\n",
    "        else: # (1 - epsilon probability)\n",
    "            action = np.argmax(q_table[state]) # Exploitation: take best action for current state according to current Q table\n",
    "\n",
    "        next_state, reward, done, info = env.step(action) \n",
    "        \n",
    "        old_value = q_table[state, action]\n",
    "        next_max = np.max(q_table[next_state])\n",
    "        \n",
    "        new_value = (1 - alpha) * old_value + alpha * (reward + gamma * next_max)\n",
    "        q_table[state, action] = new_value\n",
    "\n",
    "        if reward == -10:\n",
    "            pen += 1\n",
    "        rew += reward\n",
    "        ep += 1\n",
    "        \n",
    "        state = next_state\n",
    "    \n",
    "    rewards.append(rew)\n",
    "    epochs.append(ep)\n",
    "    penalties.append(pen)\n",
    "\n",
    "print(f'training finished: {time.time() - t1} seconds')"
   ]
  },
  {
   "cell_type": "markdown",
   "id": "lucky-hypothesis",
   "metadata": {},
   "source": [
    "## Training metrics Visualization"
   ]
  },
  {
   "cell_type": "code",
   "execution_count": 11,
   "id": "particular-librarian",
   "metadata": {},
   "outputs": [
    {
     "data": {
      "text/plain": [
       "[<matplotlib.lines.Line2D at 0x2b007ef5070>]"
      ]
     },
     "execution_count": 11,
     "metadata": {},
     "output_type": "execute_result"
    },
    {
     "data": {
      "image/png": "[encoded data removed]",
      "text/plain": [
       "<Figure size 1800x720 with 3 Axes>"
      ]
     },
     "metadata": {
      "needs_background": "light"
     },
     "output_type": "display_data"
    }
   ],
   "source": [
    "fig = plt.figure(figsize = (25,10))\n",
    "\n",
    "plt.subplot(1, 3, 1)\n",
    "plt.title('Reward per episode')\n",
    "plt.xlabel('Episode')\n",
    "plt.ylabel('Reward')\n",
    "plt.plot(range(len(rewards)), rewards)\n",
    "\n",
    "plt.subplot(1, 3, 2)\n",
    "plt.title('Epochs per episode')\n",
    "plt.xlabel('Episode')\n",
    "plt.ylabel('Number of Epochs')\n",
    "plt.plot(range(len(epochs)), epochs)\n",
    "\n",
    "plt.subplot(1, 3, 3)\n",
    "plt.title('Penalty per episode')\n",
    "plt.xlabel('Episode')\n",
    "plt.ylabel('Penalty')\n",
    "plt.plot(range(len(penalties)), penalties)"
   ]
  },
  {
   "cell_type": "code",
   "execution_count": 16,
   "id": "magnetic-demonstration",
   "metadata": {},
   "outputs": [
    {
     "data": {
      "text/plain": [
       "[<matplotlib.lines.Line2D at 0x2b00e045d30>]"
      ]
     },
     "execution_count": 16,
     "metadata": {},
     "output_type": "execute_result"
    },
    {
     "data": {
      "image/png": "[encoded data removed]",
      "text/plain": [
       "<Figure size 1800x720 with 3 Axes>"
      ]
     },
     "metadata": {
      "needs_background": "light"
     },
     "output_type": "display_data"
    }
   ],
   "source": [
    "# same visual but without initial outlier\n",
    "\n",
    "fig = plt.figure(figsize = (25,10))\n",
    "\n",
    "plt.subplot(1, 3, 1)\n",
    "plt.title('Reward per episode')\n",
    "plt.xlabel('Episode')\n",
    "plt.ylabel('Reward')\n",
    "plt.plot(range(len(rewards) - 1000), rewards[1000:])\n",
    "\n",
    "plt.subplot(1, 3, 2)\n",
    "plt.title('Epochs per episode')\n",
    "plt.xlabel('Episode')\n",
    "plt.ylabel('Number of Epochs')\n",
    "plt.plot(range(len(epochs) - 1000), epochs[1000:])\n",
    "\n",
    "plt.subplot(1, 3, 3)\n",
    "plt.title('Penalty per episode')\n",
    "plt.xlabel('Episode')\n",
    "plt.ylabel('Penalty')\n",
    "plt.plot(range(len(penalties) - 1000), penalties[1000:])"
   ]
  },
  {
   "cell_type": "markdown",
   "id": "mounted-sociology",
   "metadata": {},
   "source": [
    "Looks like there is no real improvement in performance after 10 000 - 15 000 episodes of training"
   ]
  },
  {
   "cell_type": "markdown",
   "id": "forty-cargo",
   "metadata": {},
   "source": [
    "## Visualization of best actions on random state"
   ]
  },
  {
   "cell_type": "code",
   "execution_count": 17,
   "id": "architectural-merit",
   "metadata": {},
   "outputs": [],
   "source": [
    "def print_frame(frame):\n",
    "    clear_output(wait=True)\n",
    "    print(frame['frame'])\n",
    "    print(f\"Timestep: {epochs + 1}\")\n",
    "    print(f\"State: {frame['state']}\")\n",
    "    print(f\"Action: {frame['action']}\")\n",
    "    print(f\"Reward: {frame['reward']}\")\n",
    "    time.sleep(.1)"
   ]
  },
  {
   "cell_type": "code",
   "execution_count": 18,
   "id": "surrounded-solid",
   "metadata": {
    "scrolled": false
   },
   "outputs": [
    {
     "name": "stdout",
     "output_type": "stream",
     "text": [
      "+---------+\n",
      "|R: | : :\u001b[35m\u001b[34;1m\u001b[43mG\u001b[0m\u001b[0m\u001b[0m|\n",
      "| : | : : |\n",
      "| : : : : |\n",
      "| | : | : |\n",
      "|Y| : |B: |\n",
      "+---------+\n",
      "  (Dropoff)\n",
      "\n",
      "Timestep: 12\n",
      "State: 85\n",
      "Action: 5\n",
      "Reward: 20\n"
     ]
    }
   ],
   "source": [
    "state = env.reset()\n",
    "env.s = state\n",
    "\n",
    "epochs = 0\n",
    "penalties, reward = 0, 0\n",
    "\n",
    "frames = []\n",
    "\n",
    "done = False\n",
    "\n",
    "while not done:\n",
    "    action = np.argmax(q_table[state])\n",
    "    state, reward, done, info = env.step(action)\n",
    "\n",
    "    if reward == -10:\n",
    "        penalties += 1\n",
    "        \n",
    "    print_frame({\n",
    "        'frame': env.render(mode='ansi'),\n",
    "        'state': state,\n",
    "        'action': action,\n",
    "        'reward': reward\n",
    "        })\n",
    "\n",
    "    epochs += 1"
   ]
  },
  {
   "cell_type": "markdown",
   "id": "nearby-interest",
   "metadata": {},
   "source": [
    "## More formal test of performance"
   ]
  },
  {
   "cell_type": "code",
   "execution_count": 19,
   "id": "major-findings",
   "metadata": {},
   "outputs": [
    {
     "name": "stdout",
     "output_type": "stream",
     "text": [
      "Results after 100 episodes:\n",
      "Average timesteps per episode: 13.23\n",
      "Average penalties per episode: 0.0\n",
      "Average reward per episode: 7.77\n"
     ]
    }
   ],
   "source": [
    "#track metrics of Q learned agent over many episodes\n",
    "\n",
    "total_epochs, total_penalties, stuck, total_reward = 0, 0, 0, 0\n",
    "episodes = 100\n",
    "\n",
    "for _ in range(episodes):\n",
    "    state = env.reset()\n",
    "    epochs, penalties, reward = 0, 0, 0\n",
    "    \n",
    "    done = False\n",
    "    \n",
    "    while not done:\n",
    "        action = np.argmax(q_table[state])\n",
    "        state, reward, done, info = env.step(action)\n",
    "\n",
    "        if reward == -10:\n",
    "            penalties += 1\n",
    "            \n",
    "        total_reward += reward\n",
    "        epochs += 1\n",
    "\n",
    "    total_penalties += penalties\n",
    "    total_epochs += epochs\n",
    "\n",
    "resultsQ = {'epochs': total_epochs, 'penalties': total_penalties, 'reward': total_reward}\n",
    "print(f\"Results after {episodes} episodes:\")\n",
    "print(f\"Average timesteps per episode: {total_epochs / episodes}\")\n",
    "print(f\"Average penalties per episode: {total_penalties / episodes}\")\n",
    "print(f\"Average reward per episode: {total_reward / episodes}\")"
   ]
  },
  {
   "cell_type": "code",
   "execution_count": 20,
   "id": "smart-luther",
   "metadata": {},
   "outputs": [
    {
     "name": "stdout",
     "output_type": "stream",
     "text": [
      "Results after 100 episodes:\n",
      "Average timesteps per episode: 2378.54\n",
      "Average penalties per episode: 770.66\n",
      "Average reward per episode: -9293.48\n"
     ]
    }
   ],
   "source": [
    "# track metrics of random agent as baseline\n",
    "\n",
    "total_epochs, total_penalties, total_reward = 0, 0, 0\n",
    "\n",
    "for _ in range(episodes):\n",
    "    state = env.reset()\n",
    "    epochs, penalties, reward = 0, 0, 0\n",
    "    \n",
    "    done = False\n",
    "    \n",
    "    while not done:\n",
    "        t = time.time()\n",
    "        action = env.action_space.sample()\n",
    "        state, reward, done, info = env.step(action)\n",
    "\n",
    "        if reward == -10:\n",
    "            penalties += 1\n",
    "\n",
    "        total_reward += reward\n",
    "        epochs += 1\n",
    "\n",
    "    total_penalties += penalties\n",
    "    total_epochs += epochs\n",
    "\n",
    "resultsRandom = {'epochs': total_epochs, 'penalties': total_penalties, 'reward': total_reward}\n",
    "print(f\"Results after {episodes} episodes:\")\n",
    "print(f\"Average timesteps per episode: {total_epochs / episodes}\")\n",
    "print(f\"Average penalties per episode: {total_penalties / episodes}\")\n",
    "print(f\"Average reward per episode: {total_reward / episodes}\")"
   ]
  },
  {
   "cell_type": "code",
   "execution_count": 21,
   "id": "amber-evolution",
   "metadata": {},
   "outputs": [
    {
     "name": "stdout",
     "output_type": "stream",
     "text": [
      "-------------------------------------\n",
      "\tPerformance Summary\n",
      "-------------------------------------\n",
      "\n",
      "Q learned Agent:\n",
      "-------------------------------------\n",
      "Average timesteps per episode: 13.23\n",
      "Average penalties per episode: 0.0\n",
      "Average reward per episode: 7.77\n",
      "\n",
      "Random Agent:\n",
      "-------------------------------------\n",
      "Average timesteps per episode: 2378.54\n",
      "Average penalties per episode: 770.66\n",
      "Average reward per episode: -9293.48\n"
     ]
    }
   ],
   "source": [
    "# Q learned agent vs Random agent\n",
    "print('-------------------------------------')\n",
    "print(\"\\tPerformance Summary\")\n",
    "print('-------------------------------------')\n",
    "print()\n",
    "print('Q learned Agent:')\n",
    "print('-------------------------------------')\n",
    "print(f\"Average timesteps per episode: {resultsQ['epochs'] / episodes}\")\n",
    "print(f\"Average penalties per episode: {resultsQ['penalties'] / episodes}\")\n",
    "print(f\"Average reward per episode: {resultsQ['reward'] / episodes}\")\n",
    "print()\n",
    "print('Random Agent:')\n",
    "print('-------------------------------------')\n",
    "print(f\"Average timesteps per episode: {resultsRandom['epochs'] / episodes}\")\n",
    "print(f\"Average penalties per episode: {resultsRandom['penalties'] / episodes}\")\n",
    "print(f\"Average reward per episode: {resultsRandom['reward'] / episodes}\")"
   ]
  },
  {
   "cell_type": "markdown",
   "id": "consistent-cancellation",
   "metadata": {},
   "source": [
    "It is clear that the Q learned agent significantly outperforms the random agent"
   ]
  }
 ],
 "metadata": {
  "kernelspec": {
   "display_name": "Python 3",
   "language": "python",
   "name": "python3"
  },
  "language_info": {
   "codemirror_mode": {
    "name": "ipython",
    "version": 3
   },
   "file_extension": ".py",
   "mimetype": "text/x-python",
   "name": "python",
   "nbconvert_exporter": "python",
   "pygments_lexer": "ipython3",
   "version": "3.9.1"
  }
 },
 "nbformat": 4,
 "nbformat_minor": 5
}
